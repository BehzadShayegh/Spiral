{
 "cells": [
  {
   "cell_type": "code",
   "execution_count": 1,
   "metadata": {},
   "outputs": [],
   "source": [
    "import sys\n",
    "sys.path.insert(1, '../')\n",
    "\n",
    "from spiral import (\n",
    "    IntegrateAndFireSoma,\n",
    "    LeakyMembrane,\n",
    "    ExponentialDepolaristicMembrane,\n",
    "    AdaptiveMembrane\n",
    ")\n",
    "from spiral.analysis import FunctionGenerator"
   ]
  },
  {
   "cell_type": "code",
   "execution_count": 2,
   "metadata": {},
   "outputs": [
    {
     "data": {
      "text/plain": [
       "IntegrateAndFireSoma()"
      ]
     },
     "execution_count": 2,
     "metadata": {},
     "output_type": "execute_result"
    }
   ],
   "source": [
    "AdaptiveMembrane(\n",
    "    ExponentialDepolaristicMembrane(\n",
    "        LeakyMembrane(\n",
    "            IntegrateAndFireSoma(\n",
    "                name='neuronsA',\n",
    "                shape=(3,),\n",
    "                tau=15.,\n",
    "                dt=1.,\n",
    "                analyzable=True\n",
    "            )\n",
    "        ),\n",
    "        sharpness=1.\n",
    "    ),\n",
    "    spike_triggered_adaptation=1.,\n",
    ")"
   ]
  },
  {
   "cell_type": "code",
   "execution_count": null,
   "metadata": {},
   "outputs": [],
   "source": []
  },
  {
   "cell_type": "code",
   "execution_count": null,
   "metadata": {},
   "outputs": [],
   "source": []
  }
 ],
 "metadata": {
  "kernelspec": {
   "display_name": "cns",
   "language": "python",
   "name": "cns"
  },
  "language_info": {
   "codemirror_mode": {
    "name": "ipython",
    "version": 3
   },
   "file_extension": ".py",
   "mimetype": "text/x-python",
   "name": "python",
   "nbconvert_exporter": "python",
   "pygments_lexer": "ipython3",
   "version": "3.8.8"
  }
 },
 "nbformat": 4,
 "nbformat_minor": 4
}
