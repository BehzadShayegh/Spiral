{
 "cells": [
  {
   "cell_type": "code",
   "execution_count": 1,
   "id": "5de4063f",
   "metadata": {},
   "outputs": [
    {
     "name": "stderr",
     "output_type": "stream",
     "text": [
      "/home/behzad/anaconda3/envs/cns/lib/python3.8/site-packages/typeguard/__init__.py:910: UserWarning: no type annotations present -- not typechecking spiral.axon.axon.Axon.terminal_shape\n",
      "  warn('no type annotations present -- not typechecking {}'.format(function_name(func)))\n"
     ]
    }
   ],
   "source": [
    "import sys\n",
    "sys.path.insert(1, '../')\n",
    "import torch\n",
    "\n",
    "from spiral import (\n",
    "    IntegrateAndFireSoma,\n",
    "    LeakyMembrane,\n",
    "    Axon\n",
    ")\n",
    "LIF = LeakyMembrane(IntegrateAndFireSoma)\n",
    "\n"
   ]
  },
  {
   "cell_type": "code",
   "execution_count": 50,
   "id": "0246b9ca",
   "metadata": {},
   "outputs": [
    {
     "data": {
      "text/plain": [
       "(tensor([[[11, 12],\n",
       "          [13, 14]],\n",
       " \n",
       "         [[21, 22],\n",
       "          [23, 24]],\n",
       " \n",
       "         [[31, 32],\n",
       "          [33, 34]]]),\n",
       " torch.Size([3, 2, 2]))"
      ]
     },
     "execution_count": 50,
     "metadata": {},
     "output_type": "execute_result"
    }
   ],
   "source": [
    "a = torch.tensor([\n",
    "    [\n",
    "        [11,12],\n",
    "        [13,14],\n",
    "    ],[\n",
    "        [21,22],\n",
    "        [23,24],\n",
    "    ],[\n",
    "        [31,32],\n",
    "        [33,34],\n",
    "    ],\n",
    "])\n",
    "a, a.shape"
   ]
  },
  {
   "cell_type": "code",
   "execution_count": 49,
   "id": "5a9f527b",
   "metadata": {},
   "outputs": [
    {
     "data": {
      "text/plain": [
       "(tensor([[0, 1],\n",
       "         [2, 1]]),\n",
       " torch.Size([2, 2]))"
      ]
     },
     "execution_count": 49,
     "metadata": {},
     "output_type": "execute_result"
    }
   ],
   "source": [
    "index = torch.tensor([\n",
    "    [0,1],\n",
    "    [2,1],\n",
    "])\n",
    "index, index.shape"
   ]
  },
  {
   "cell_type": "code",
   "execution_count": 71,
   "id": "a653eaac",
   "metadata": {},
   "outputs": [
    {
     "ename": "RuntimeError",
     "evalue": "index 3 is out of bounds for dimension 0 with size 3",
     "output_type": "error",
     "traceback": [
      "\u001b[0;31m---------------------------------------------------------------------------\u001b[0m",
      "\u001b[0;31mRuntimeError\u001b[0m                              Traceback (most recent call last)",
      "\u001b[0;32m<ipython-input-71-73c3886d82ca>\u001b[0m in \u001b[0;36m<module>\u001b[0;34m\u001b[0m\n\u001b[0;32m----> 1\u001b[0;31m \u001b[0ma\u001b[0m\u001b[0;34m.\u001b[0m\u001b[0mgather\u001b[0m\u001b[0;34m(\u001b[0m\u001b[0mdim\u001b[0m\u001b[0;34m=\u001b[0m\u001b[0;36m0\u001b[0m\u001b[0;34m,\u001b[0m \u001b[0mindex\u001b[0m\u001b[0;34m=\u001b[0m\u001b[0mindex\u001b[0m\u001b[0;34m.\u001b[0m\u001b[0munsqueeze\u001b[0m\u001b[0;34m(\u001b[0m\u001b[0;36m0\u001b[0m\u001b[0;34m)\u001b[0m\u001b[0;34m+\u001b[0m\u001b[0;36m1\u001b[0m\u001b[0;34m)\u001b[0m\u001b[0;34m\u001b[0m\u001b[0;34m\u001b[0m\u001b[0m\n\u001b[0m",
      "\u001b[0;31mRuntimeError\u001b[0m: index 3 is out of bounds for dimension 0 with size 3"
     ]
    }
   ],
   "source": [
    "a.gather(dim=0, index=index.unsqueeze(0)+1)"
   ]
  },
  {
   "cell_type": "code",
   "execution_count": 69,
   "id": "4639aedc",
   "metadata": {},
   "outputs": [
    {
     "ename": "RuntimeError",
     "evalue": "Index tensor must have the same number of dimensions as self tensor",
     "output_type": "error",
     "traceback": [
      "\u001b[0;31m---------------------------------------------------------------------------\u001b[0m",
      "\u001b[0;31mRuntimeError\u001b[0m                              Traceback (most recent call last)",
      "\u001b[0;32m<ipython-input-69-970072930d9b>\u001b[0m in \u001b[0;36m<module>\u001b[0;34m\u001b[0m\n\u001b[0;32m----> 1\u001b[0;31m \u001b[0ma\u001b[0m\u001b[0;34m.\u001b[0m\u001b[0mscatter\u001b[0m\u001b[0;34m(\u001b[0m\u001b[0mdim\u001b[0m\u001b[0;34m=\u001b[0m\u001b[0;36m0\u001b[0m\u001b[0;34m,\u001b[0m \u001b[0mindex\u001b[0m\u001b[0;34m=\u001b[0m\u001b[0mtorch\u001b[0m\u001b[0;34m.\u001b[0m\u001b[0mtensor\u001b[0m\u001b[0;34m(\u001b[0m\u001b[0;36m0\u001b[0m\u001b[0;34m)\u001b[0m\u001b[0;34m,\u001b[0m \u001b[0msrc\u001b[0m\u001b[0;34m=\u001b[0m\u001b[0mtorch\u001b[0m\u001b[0;34m.\u001b[0m\u001b[0mzeros_like\u001b[0m\u001b[0;34m(\u001b[0m\u001b[0mindex\u001b[0m\u001b[0;34m)\u001b[0m\u001b[0;34m.\u001b[0m\u001b[0munsqueeze\u001b[0m\u001b[0;34m(\u001b[0m\u001b[0;36m0\u001b[0m\u001b[0;34m)\u001b[0m\u001b[0;34m)\u001b[0m\u001b[0;34m\u001b[0m\u001b[0;34m\u001b[0m\u001b[0m\n\u001b[0m",
      "\u001b[0;31mRuntimeError\u001b[0m: Index tensor must have the same number of dimensions as self tensor"
     ]
    }
   ],
   "source": [
    "a.scatter(dim=0, index=torch.tensor(0), src=torch.zeros_like(index).unsqueeze(0))"
   ]
  },
  {
   "cell_type": "code",
   "execution_count": 68,
   "id": "2bc058a7",
   "metadata": {},
   "outputs": [
    {
     "data": {
      "text/plain": [
       "tensor([[[11, 12],\n",
       "         [13, 14]],\n",
       "\n",
       "        [[21, 22],\n",
       "         [23, 24]],\n",
       "\n",
       "        [[31, 32],\n",
       "         [33, 34]]])"
      ]
     },
     "execution_count": 68,
     "metadata": {},
     "output_type": "execute_result"
    }
   ],
   "source": [
    "a"
   ]
  },
  {
   "cell_type": "code",
   "execution_count": null,
   "id": "fe3ae9b3",
   "metadata": {},
   "outputs": [],
   "source": [
    "from spiral.analysis import FunctionGenerator\n",
    "I = FunctionGenerator.generate(250, shape=(3,),\n",
    "           baseline={50*i: 150 if i%2 else 0 for i in range(5)})\n",
    "I[:,1] *= 1.2"
   ]
  },
  {
   "cell_type": "code",
   "execution_count": null,
   "id": "a4b94654",
   "metadata": {},
   "outputs": [],
   "source": [
    "from spiral.analysis import Simulator\n",
    "import matplotlib.pyplot as plt\n",
    "from matplotlib_dashboard import MatplotlibDashboard\n",
    "\n",
    "def simulate_and_plot(n, a, I, title=''):\n",
    "    s = Simulator(n.progress)\n",
    "    n.reset()\n",
    "    s.simulate(inputs={'direct_input': I}, times=200)\n",
    "    plt.figure(figsize=(14,5))\n",
    "    md = MatplotlibDashboard([\n",
    "        ['N',],\n",
    "        ['S',],\n",
    "        ['I',]\n",
    "    ], hspace=.5, wspace=.3)\n",
    "    n.plot_spikes(md['S'])\n",
    "    a.plot__neurotransmitter(md['N'])\n",
    "    md['I'].plot(I, color='blue', alpha=.2)\n",
    "    md['I'].plot(I.mean(axis=1), color='blue')\n",
    "    md['I'].set_ylabel('Current')\n",
    "    md['N'].set_title(title)\n",
    "    plt.show()"
   ]
  },
  {
   "cell_type": "code",
   "execution_count": null,
   "id": "9605cf92",
   "metadata": {},
   "outputs": [],
   "source": [
    "n = new_n()\n",
    "a = Axon(\n",
    "    terminal=[2],\n",
    "    analyzable=True,\n",
    ")\n",
    "n.use(a)\n",
    "simulate_and_plot(n, a, I, 'Without Delay, Default response function')"
   ]
  }
 ],
 "metadata": {
  "kernelspec": {
   "display_name": "cns",
   "language": "python",
   "name": "cns"
  },
  "language_info": {
   "codemirror_mode": {
    "name": "ipython",
    "version": 3
   },
   "file_extension": ".py",
   "mimetype": "text/x-python",
   "name": "python",
   "nbconvert_exporter": "python",
   "pygments_lexer": "ipython3",
   "version": "3.8.8"
  }
 },
 "nbformat": 4,
 "nbformat_minor": 5
}
