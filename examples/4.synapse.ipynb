{
 "cells": [
  {
   "cell_type": "code",
   "execution_count": 2,
   "id": "5de4063f",
   "metadata": {},
   "outputs": [],
   "source": [
    "import sys\n",
    "sys.path.insert(1, '../')\n",
    "import torch\n",
    "\n",
    "from spiral import (\n",
    "    IntegrateAndFireSoma,\n",
    "    LeakyMembrane,\n",
    "    LinearDendrite,\n",
    "    Axon,\n",
    "    ConvergentSynapticPlasticity,\n",
    "    Synapse,\n",
    "    DisconnectorSynapticCover,\n",
    "    RandomConnectivity,\n",
    "    RandomFixedCouplingConnectivity,\n",
    "    RandomFixedPresynapticPartnersConnectivity,\n",
    "    AutapseConnectivity,\n",
    "    NotConnectivity,\n",
    "    AndConnectivity,\n",
    "    ScalingResponseFunction,\n",
    ")\n",
    "LIF = (LeakyMembrane(IntegrateAndFireSoma))\n",
    "new_n = lambda shape: LIF(\n",
    "    name='neuronsA',\n",
    "    shape=shape,\n",
    "    batch=1,\n",
    "    dt=1.,\n",
    "    analyzable=True,\n",
    ")\n",
    "new_axon = lambda: Axon(\n",
    "    analyzable=True,\n",
    "    response_function=ScalingResponseFunction(scale=100.),\n",
    ")\n",
    "new_dendrite = lambda: LinearDendrite(\n",
    "    analyzable=True,\n",
    "    plasticity_model=ConvergentSynapticPlasticity()\n",
    ")"
   ]
  },
  {
   "cell_type": "code",
   "execution_count": 28,
   "id": "5a9f527b",
   "metadata": {},
   "outputs": [
    {
     "data": {
      "text/plain": [
       "tensor([[False,  True, False],\n",
       "        [ True, False,  True]])"
      ]
     },
     "execution_count": 28,
     "metadata": {},
     "output_type": "execute_result"
    }
   ],
   "source": [
    "a = torch.tensor([[1,2,3],[4,5,6]]) % 2 == 0\n",
    "a"
   ]
  },
  {
   "cell_type": "code",
   "execution_count": 32,
   "id": "a653eaac",
   "metadata": {},
   "outputs": [],
   "source": [
    "b = a.reshape(1, 2, 1, 3).repeat(4,1,4,1)"
   ]
  },
  {
   "cell_type": "code",
   "execution_count": 41,
   "id": "4639aedc",
   "metadata": {},
   "outputs": [
    {
     "name": "stdout",
     "output_type": "stream",
     "text": [
      "torch.Size([2, 3])\n"
     ]
    },
    {
     "data": {
      "text/plain": [
       "torch.Size([4, 2, 4, 3])"
      ]
     },
     "execution_count": 41,
     "metadata": {},
     "output_type": "execute_result"
    }
   ],
   "source": [
    "c = torch.zeros_like(b)\n",
    "print(c[i, :, i, :].shape)\n",
    "for i in range(4):\n",
    "    c[i, :, i, :] = a\n",
    "c.shape"
   ]
  },
  {
   "cell_type": "code",
   "execution_count": 53,
   "id": "2bc058a7",
   "metadata": {},
   "outputs": [
    {
     "data": {
      "text/plain": [
       "tensor([[1, 1, 1],\n",
       "        [1, 1, 1],\n",
       "        [1, 1, 1],\n",
       "        [1, 1, 1]])"
      ]
     },
     "execution_count": 53,
     "metadata": {},
     "output_type": "execute_result"
    }
   ],
   "source": [
    "c.sum([1,2])"
   ]
  },
  {
   "cell_type": "code",
   "execution_count": null,
   "id": "fe3ae9b3",
   "metadata": {},
   "outputs": [],
   "source": [
    "from spiral.analysis import FunctionGenerator\n",
    "I = FunctionGenerator.generate(250, shape=(3,),\n",
    "           baseline={50*i: 150 if i%2 else 0 for i in range(5)})\n",
    "I[:,1] *= 1.2"
   ]
  },
  {
   "cell_type": "code",
   "execution_count": null,
   "id": "a4b94654",
   "metadata": {},
   "outputs": [],
   "source": [
    "from spiral.analysis import Simulator\n",
    "import matplotlib.pyplot as plt\n",
    "from matplotlib_dashboard import MatplotlibDashboard\n",
    "\n",
    "def simulate_and_plot(n, a, I, title=''):\n",
    "    s = Simulator(n.progress)\n",
    "    n.reset()\n",
    "    s.simulate(inputs={'direct_input': I}, times=200)\n",
    "    plt.figure(figsize=(14,5))\n",
    "    md = MatplotlibDashboard([\n",
    "        ['N',],\n",
    "        ['S',],\n",
    "        ['I',]\n",
    "    ], hspace=.5, wspace=.3)\n",
    "    n.plot_spikes(md['S'])\n",
    "    a.plot__neurotransmitter(md['N'])\n",
    "    md['I'].plot(I, color='blue', alpha=.2)\n",
    "    md['I'].plot(I.mean(axis=1), color='blue')\n",
    "    md['I'].set_ylabel('Current')\n",
    "    md['N'].set_title(title)\n",
    "    plt.show()"
   ]
  },
  {
   "cell_type": "code",
   "execution_count": null,
   "id": "9605cf92",
   "metadata": {},
   "outputs": [],
   "source": [
    "n = new_n()\n",
    "a = Axon(\n",
    "    terminal=[2],\n",
    "    analyzable=True,\n",
    ")\n",
    "n.use(a)\n",
    "simulate_and_plot(n, a, I, 'Without Delay, Default response function')"
   ]
  }
 ],
 "metadata": {
  "kernelspec": {
   "display_name": "cns",
   "language": "python",
   "name": "cns"
  },
  "language_info": {
   "codemirror_mode": {
    "name": "ipython",
    "version": 3
   },
   "file_extension": ".py",
   "mimetype": "text/x-python",
   "name": "python",
   "nbconvert_exporter": "python",
   "pygments_lexer": "ipython3",
   "version": "3.8.8"
  }
 },
 "nbformat": 4,
 "nbformat_minor": 5
}
